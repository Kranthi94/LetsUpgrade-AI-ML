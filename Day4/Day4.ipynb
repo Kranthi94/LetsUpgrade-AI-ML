{
  "nbformat": 4,
  "nbformat_minor": 0,
  "metadata": {
    "colab": {
      "name": "Day4",
      "provenance": []
    },
    "kernelspec": {
      "name": "python3",
      "display_name": "Python 3"
    }
  },
  "cells": [
    {
      "cell_type": "code",
      "metadata": {
        "id": "KMZy6PnaFyPA",
        "colab_type": "code",
        "colab": {
          "base_uri": "https://localhost:8080/",
          "height": 34
        },
        "outputId": "85e4ff2b-6529-4b12-a246-e373c4c476de"
      },
      "source": [
        "#Question 1\n",
        "#operations on complex numbers\n",
        "\n",
        "#addition:\n",
        "a=10+7j\n",
        "b=20+8j;\n",
        "\n",
        "print(a+b)\n"
      ],
      "execution_count": 2,
      "outputs": [
        {
          "output_type": "stream",
          "text": [
            "(30+15j)\n"
          ],
          "name": "stdout"
        }
      ]
    },
    {
      "cell_type": "code",
      "metadata": {
        "id": "6Ng139VrGZcL",
        "colab_type": "code",
        "colab": {
          "base_uri": "https://localhost:8080/",
          "height": 34
        },
        "outputId": "f6a3d7b7-f34b-41ed-8b39-7f9c5ec3390d"
      },
      "source": [
        "#subtraction:\n",
        "a=10+7j\n",
        "b=20+8j;\n",
        "\n",
        "print(a-b)\n"
      ],
      "execution_count": 3,
      "outputs": [
        {
          "output_type": "stream",
          "text": [
            "(-10-1j)\n"
          ],
          "name": "stdout"
        }
      ]
    },
    {
      "cell_type": "code",
      "metadata": {
        "id": "HUsMnngeGe29",
        "colab_type": "code",
        "colab": {
          "base_uri": "https://localhost:8080/",
          "height": 34
        },
        "outputId": "7ac82713-20e4-424d-907d-ee187095ae18"
      },
      "source": [
        "#multiplication:\n",
        "a=10+7j\n",
        "b=20+8j;\n",
        "\n",
        "print(a*b)\n"
      ],
      "execution_count": 4,
      "outputs": [
        {
          "output_type": "stream",
          "text": [
            "(144+220j)\n"
          ],
          "name": "stdout"
        }
      ]
    },
    {
      "cell_type": "code",
      "metadata": {
        "id": "w-tkpmLtGkOA",
        "colab_type": "code",
        "colab": {
          "base_uri": "https://localhost:8080/",
          "height": 34
        },
        "outputId": "7d43cf4f-59d2-4a3f-c2c2-0a36329592c9"
      },
      "source": [
        "#division:\n",
        "\n",
        "a=10+7j\n",
        "b=20+8j;\n",
        "\n",
        "print(a/b)\n"
      ],
      "execution_count": 5,
      "outputs": [
        {
          "output_type": "stream",
          "text": [
            "(0.5517241379310345+0.12931034482758622j)\n"
          ],
          "name": "stdout"
        }
      ]
    },
    {
      "cell_type": "code",
      "metadata": {
        "id": "nnoRn9HaGo2M",
        "colab_type": "code",
        "colab": {
          "base_uri": "https://localhost:8080/",
          "height": 197
        },
        "outputId": "3f6d59b4-00d1-48f3-b18e-bbe2bd7bf6ef"
      },
      "source": [
        "#floor operation:\n",
        "\n",
        "a=10+7j\n",
        "b=20+8j;\n",
        "\n",
        "print(a//b)\n"
      ],
      "execution_count": 6,
      "outputs": [
        {
          "output_type": "error",
          "ename": "TypeError",
          "evalue": "ignored",
          "traceback": [
            "\u001b[0;31m---------------------------------------------------------------------------\u001b[0m",
            "\u001b[0;31mTypeError\u001b[0m                                 Traceback (most recent call last)",
            "\u001b[0;32m<ipython-input-6-75fb26118bd1>\u001b[0m in \u001b[0;36m<module>\u001b[0;34m()\u001b[0m\n\u001b[1;32m      4\u001b[0m \u001b[0mb\u001b[0m\u001b[0;34m=\u001b[0m\u001b[0;36m20\u001b[0m\u001b[0;34m+\u001b[0m\u001b[0;36m8j\u001b[0m\u001b[0;34m;\u001b[0m\u001b[0;34m\u001b[0m\u001b[0;34m\u001b[0m\u001b[0m\n\u001b[1;32m      5\u001b[0m \u001b[0;34m\u001b[0m\u001b[0m\n\u001b[0;32m----> 6\u001b[0;31m \u001b[0mprint\u001b[0m\u001b[0;34m(\u001b[0m\u001b[0ma\u001b[0m\u001b[0;34m//\u001b[0m\u001b[0mb\u001b[0m\u001b[0;34m)\u001b[0m\u001b[0;34m\u001b[0m\u001b[0;34m\u001b[0m\u001b[0m\n\u001b[0m",
            "\u001b[0;31mTypeError\u001b[0m: can't take floor of complex number."
          ]
        }
      ]
    },
    {
      "cell_type": "code",
      "metadata": {
        "id": "uMzi6UrHGu19",
        "colab_type": "code",
        "colab": {
          "base_uri": "https://localhost:8080/",
          "height": 197
        },
        "outputId": "48596368-77b2-4fa4-8498-069e5fceaa69"
      },
      "source": [
        "#modulus Operation:\n",
        "a=10+7j\n",
        "b=20+8j;\n",
        "\n",
        "print(a%b)\n"
      ],
      "execution_count": 7,
      "outputs": [
        {
          "output_type": "error",
          "ename": "TypeError",
          "evalue": "ignored",
          "traceback": [
            "\u001b[0;31m---------------------------------------------------------------------------\u001b[0m",
            "\u001b[0;31mTypeError\u001b[0m                                 Traceback (most recent call last)",
            "\u001b[0;32m<ipython-input-7-760cd7015a39>\u001b[0m in \u001b[0;36m<module>\u001b[0;34m()\u001b[0m\n\u001b[1;32m      3\u001b[0m \u001b[0mb\u001b[0m\u001b[0;34m=\u001b[0m\u001b[0;36m20\u001b[0m\u001b[0;34m+\u001b[0m\u001b[0;36m8j\u001b[0m\u001b[0;34m;\u001b[0m\u001b[0;34m\u001b[0m\u001b[0;34m\u001b[0m\u001b[0m\n\u001b[1;32m      4\u001b[0m \u001b[0;34m\u001b[0m\u001b[0m\n\u001b[0;32m----> 5\u001b[0;31m \u001b[0mprint\u001b[0m\u001b[0;34m(\u001b[0m\u001b[0ma\u001b[0m\u001b[0;34m%\u001b[0m\u001b[0mb\u001b[0m\u001b[0;34m)\u001b[0m\u001b[0;34m\u001b[0m\u001b[0;34m\u001b[0m\u001b[0m\n\u001b[0m",
            "\u001b[0;31mTypeError\u001b[0m: can't mod complex numbers."
          ]
        }
      ]
    },
    {
      "cell_type": "code",
      "metadata": {
        "id": "CcZeHFUdG0ta",
        "colab_type": "code",
        "colab": {
          "base_uri": "https://localhost:8080/",
          "height": 170
        },
        "outputId": "ac5867e3-0a7e-4238-f95a-908ccf85c59e"
      },
      "source": [
        "#Question 2\n",
        "\n",
        "for i in range(1,10):\n",
        "  print(i)\n",
        "  "
      ],
      "execution_count": 8,
      "outputs": [
        {
          "output_type": "stream",
          "text": [
            "1\n",
            "2\n",
            "3\n",
            "4\n",
            "5\n",
            "6\n",
            "7\n",
            "8\n",
            "9\n"
          ],
          "name": "stdout"
        }
      ]
    },
    {
      "cell_type": "code",
      "metadata": {
        "id": "PfdBDXFDHLel",
        "colab_type": "code",
        "colab": {
          "base_uri": "https://localhost:8080/",
          "height": 34
        },
        "outputId": "4c1f778c-3483-44f0-b437-0055ea456006"
      },
      "source": [
        "#question 3\n",
        "a=10\n",
        "b=20\n",
        "\n",
        "c=a-b\n",
        "\n",
        "if c>25:\n",
        "  print(a*b)\n",
        "else:\n",
        "  print(a/b)\n",
        "\n"
      ],
      "execution_count": 10,
      "outputs": [
        {
          "output_type": "stream",
          "text": [
            "0.5\n"
          ],
          "name": "stdout"
        }
      ]
    },
    {
      "cell_type": "code",
      "metadata": {
        "id": "TEdhh3kFHoqI",
        "colab_type": "code",
        "colab": {
          "base_uri": "https://localhost:8080/",
          "height": 85
        },
        "outputId": "9479f155-ae8e-4929-af0c-1198e4738ba2"
      },
      "source": [
        "#question 4\n",
        "\n",
        "l=[12,45,77,8,9,5,4,3,12]\n",
        "\n",
        "for i in l:\n",
        "  if i%2==0:\n",
        "    print(i**2-2)\n",
        "  "
      ],
      "execution_count": 11,
      "outputs": [
        {
          "output_type": "stream",
          "text": [
            "142\n",
            "62\n",
            "14\n",
            "142\n"
          ],
          "name": "stdout"
        }
      ]
    },
    {
      "cell_type": "code",
      "metadata": {
        "id": "Gu7WMEDWH-xf",
        "colab_type": "code",
        "colab": {
          "base_uri": "https://localhost:8080/",
          "height": 153
        },
        "outputId": "d566af83-17ec-42c6-f911-2b66d86ff5a3"
      },
      "source": [
        "#question 5\n",
        "\n",
        "l=[11,22,33,44,55,11,22,33,44,55]\n",
        "\n",
        "for i in l:\n",
        "  if i/2>7:\n",
        "    print(i)\n",
        "\n"
      ],
      "execution_count": 12,
      "outputs": [
        {
          "output_type": "stream",
          "text": [
            "22\n",
            "33\n",
            "44\n",
            "55\n",
            "22\n",
            "33\n",
            "44\n",
            "55\n"
          ],
          "name": "stdout"
        }
      ]
    }
  ]
}