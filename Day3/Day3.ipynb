{
  "nbformat": 4,
  "nbformat_minor": 0,
  "metadata": {
    "colab": {
      "name": "Day3.ipynb",
      "provenance": []
    },
    "kernelspec": {
      "name": "python3",
      "display_name": "Python 3"
    }
  },
  "cells": [
    {
      "cell_type": "markdown",
      "metadata": {
        "id": "OMQL4A-qMkQf",
        "colab_type": "text"
      },
      "source": [
        ""
      ]
    },
    {
      "cell_type": "code",
      "metadata": {
        "id": "uWKYZw0YMnXA",
        "colab_type": "code",
        "colab": {
          "base_uri": "https://localhost:8080/",
          "height": 34
        },
        "outputId": "274681bd-6707-478a-95b7-2f1517daebf6"
      },
      "source": [
        "#subtracting 2 complex numbers\n",
        "\n",
        "a=5+10j\n",
        "b=4+20j\n",
        "c=a-b\n",
        "print(c)\n"
      ],
      "execution_count": 1,
      "outputs": [
        {
          "output_type": "stream",
          "text": [
            "(1-10j)\n"
          ],
          "name": "stdout"
        }
      ]
    },
    {
      "cell_type": "code",
      "metadata": {
        "id": "MP7jYW76MnT3",
        "colab_type": "code",
        "colab": {
          "base_uri": "https://localhost:8080/",
          "height": 119
        },
        "outputId": "78c25446-5c90-458d-984e-e7c218220696"
      },
      "source": [
        "#swaping two numbers without using temporary variable\n",
        "\n",
        "a=10\n",
        "b=29\n",
        "\n",
        "print(\"Before Swaping\")\n",
        "print(\"a =\",a)\n",
        "print(\"b=\",b)\n",
        "\n",
        "a,b=b,a\n",
        "\n",
        "print(\"After Swaping\")\n",
        "print(\"a =\",a)\n",
        "print(\"b=\",b)\n",
        "\n",
        "\n"
      ],
      "execution_count": 5,
      "outputs": [
        {
          "output_type": "stream",
          "text": [
            "Before Swaping\n",
            "a = 10\n",
            "b= 29\n",
            "After Swaping\n",
            "a = 29\n",
            "b= 10\n"
          ],
          "name": "stdout"
        }
      ]
    },
    {
      "cell_type": "code",
      "metadata": {
        "id": "o5bNBg60P9oR",
        "colab_type": "code",
        "colab": {
          "base_uri": "https://localhost:8080/",
          "height": 119
        },
        "outputId": "f2789d58-f896-48a5-db52-e767d2806895"
      },
      "source": [
        "#swaping number using temporary variabe\n",
        "\n",
        "a=10\n",
        "b=20\n",
        "\n",
        "print(\"Before Swaping\")\n",
        "print(\"a =\",a)\n",
        "print(\"b=\",b)\n",
        "\n",
        "c=a\n",
        "a=b\n",
        "b=c\n",
        "\n",
        "print(\"After Swaping\")\n",
        "print(\"a =\",a)\n",
        "print(\"b=\",b)\n"
      ],
      "execution_count": 6,
      "outputs": [
        {
          "output_type": "stream",
          "text": [
            "Before Swaping\n",
            "a = 10\n",
            "b= 20\n",
            "After Swaping\n",
            "a = 20\n",
            "b= 10\n"
          ],
          "name": "stdout"
        }
      ]
    },
    {
      "cell_type": "code",
      "metadata": {
        "id": "_pDbYJS3SQ8L",
        "colab_type": "code",
        "colab": {
          "base_uri": "https://localhost:8080/",
          "height": 68
        },
        "outputId": "1e3f0a79-4e99-4904-db4e-f7b25db84f9b"
      },
      "source": [
        "#fahrenheit to kelvin and clesius\n",
        "\n",
        "f=100.4\n",
        "c=5/9*(f-32)\n",
        "k=c+273\n",
        "\n",
        "print(\"fahrenheit =\",f)\n",
        "print(\"celsius =\",c)\n",
        "print(\"kelvin =\",k)\n"
      ],
      "execution_count": 8,
      "outputs": [
        {
          "output_type": "stream",
          "text": [
            "fahrenheit = 100.4\n",
            "celsius = 38.00000000000001\n",
            "kelvin = 311.0\n"
          ],
          "name": "stdout"
        }
      ]
    },
    {
      "cell_type": "code",
      "metadata": {
        "id": "QyHjGlc4UgYX",
        "colab_type": "code",
        "colab": {}
      },
      "source": [
        ""
      ],
      "execution_count": null,
      "outputs": []
    },
    {
      "cell_type": "code",
      "metadata": {
        "id": "5LgIMZfPXP-a",
        "colab_type": "code",
        "colab": {}
      },
      "source": [
        ""
      ],
      "execution_count": null,
      "outputs": []
    },
    {
      "cell_type": "markdown",
      "metadata": {
        "id": "1dF4uwwdXQxV",
        "colab_type": "text"
      },
      "source": [
        ""
      ]
    },
    {
      "cell_type": "markdown",
      "metadata": {
        "id": "IWYBarU_XJ-e",
        "colab_type": "text"
      },
      "source": [
        ""
      ]
    }
  ]
}