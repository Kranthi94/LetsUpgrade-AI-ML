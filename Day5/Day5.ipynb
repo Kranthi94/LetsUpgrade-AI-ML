{
  "nbformat": 4,
  "nbformat_minor": 0,
  "metadata": {
    "colab": {
      "name": "Day5",
      "provenance": []
    },
    "kernelspec": {
      "name": "python3",
      "display_name": "Python 3"
    }
  },
  "cells": [
    {
      "cell_type": "code",
      "metadata": {
        "id": "c8ymapGNIww5",
        "colab_type": "code",
        "colab": {
          "base_uri": "https://localhost:8080/",
          "height": 357
        },
        "outputId": "2be5e194-c2ba-4fca-ab4f-9225380eaa56"
      },
      "source": [
        "#question 1\n",
        "\n",
        "#first 20 not even prime numbers \n",
        "\n",
        "a=0\n",
        "for i in range(100):\n",
        "  if a<20:\n",
        "    if i%2!=0:\n",
        "       if i%3!=0:\n",
        "         print(i)\n",
        "         a=a+1\n"
      ],
      "execution_count": 2,
      "outputs": [
        {
          "output_type": "stream",
          "text": [
            "1\n",
            "5\n",
            "7\n",
            "11\n",
            "13\n",
            "17\n",
            "19\n",
            "23\n",
            "25\n",
            "29\n",
            "31\n",
            "35\n",
            "37\n",
            "41\n",
            "43\n",
            "47\n",
            "49\n",
            "53\n",
            "55\n",
            "59\n"
          ],
          "name": "stdout"
        }
      ]
    },
    {
      "cell_type": "code",
      "metadata": {
        "id": "AyEKZCpELYfh",
        "colab_type": "code",
        "colab": {
          "base_uri": "https://localhost:8080/",
          "height": 35
        },
        "outputId": "0de1aa35-da55-4d17-c06e-20be767e9c62"
      },
      "source": [
        "#question 2\n",
        "#function on strings\n",
        "\n",
        "a=\"quantum\"\n",
        "\n",
        "#slice\n",
        "a[3:8]\n",
        "\n",
        "#replace\n",
        "a.replace('q','r')\n",
        "\n",
        "a.find('t')\n",
        "\n",
        "a.lower()\n",
        "\n",
        "a.upper()\n",
        "\n",
        "a.swapcase()\n",
        "\n",
        "a[::-1]\n",
        "\n",
        "a.isalnum()\n",
        "\n",
        "a.strip()\n",
        "\n",
        "\n"
      ],
      "execution_count": 22,
      "outputs": [
        {
          "output_type": "execute_result",
          "data": {
            "application/vnd.google.colaboratory.intrinsic": {
              "type": "string"
            },
            "text/plain": [
              "'quantum'"
            ]
          },
          "metadata": {
            "tags": []
          },
          "execution_count": 22
        }
      ]
    },
    {
      "cell_type": "code",
      "metadata": {
        "id": "S_Rp1D3nNEvB",
        "colab_type": "code",
        "colab": {
          "base_uri": "https://localhost:8080/",
          "height": 51
        },
        "outputId": "0ab4c8a3-2963-4ce8-9aeb-00036e2cb983"
      },
      "source": [
        "#question palidrom or not \n",
        "\n",
        "a=input(\"enter ny word:\")\n",
        "\n",
        "b=a[::-1]\n",
        "\n",
        "if a==b:\n",
        "  print(\"palindrome\")\n",
        "else:\n",
        "  print(\"not a palindrome word\")\n",
        "\n"
      ],
      "execution_count": 16,
      "outputs": [
        {
          "output_type": "stream",
          "text": [
            "enter ny word:nitin\n",
            "palindrome\n"
          ],
          "name": "stdout"
        }
      ]
    },
    {
      "cell_type": "code",
      "metadata": {
        "id": "4cBzuJtnL40J",
        "colab_type": "code",
        "colab": {}
      },
      "source": [
        "\n"
      ],
      "execution_count": null,
      "outputs": []
    }
  ]
}